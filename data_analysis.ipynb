{
  "nbformat": 4,
  "nbformat_minor": 0,
  "metadata": {
    "colab": {
      "provenance": [],
      "toc_visible": true
    },
    "kernelspec": {
      "name": "python3",
      "display_name": "Python 3"
    },
    "language_info": {
      "name": "python"
    }
  },
  "cells": [
    {
      "cell_type": "code",
      "source": [
        "import json \n",
        "import requests\n",
        "import regex as re\n",
        "\n",
        "from collections import defaultdict\n",
        "#from github import Github"
      ],
      "metadata": {
        "id": "ONKkkHFkPfPq"
      },
      "execution_count": null,
      "outputs": []
    },
    {
      "cell_type": "markdown",
      "source": [
        "## Collecting issues with commits "
      ],
      "metadata": {
        "id": "TZB4FHFxurxg"
      }
    },
    {
      "cell_type": "code",
      "source": [
        "issues = json.load(open('drive/MyDrive/issues.json', 'r'))\n",
        "non_prs = [issue for issue in issues if \"pull_request\" not in issue.keys()]"
      ],
      "metadata": {
        "id": "jYda4nL9TuYI"
      },
      "execution_count": null,
      "outputs": []
    },
    {
      "cell_type": "code",
      "source": [
        "headers = {'Authorization': 'token ' + '<token>'}"
      ],
      "metadata": {
        "id": "uyVUlthbRauE"
      },
      "execution_count": null,
      "outputs": []
    },
    {
      "cell_type": "code",
      "source": [
        "issues_with_commits = defaultdict(lambda: defaultdict(lambda : {'body': None, 'commits': [], 'labels':[]}))\n",
        "for issue in non_prs:\n",
        "  if issue['timeline_url']:\n",
        "    number = issue['number']\n",
        "    labels = []\n",
        "    if('labels' in issue.keys()):\n",
        "      labels = [t['name'] for t in issue['labels']]\n",
        "    try:\n",
        "      timeline = requests.get(issue['timeline_url'], headers=headers).json()\n",
        "    except:\n",
        "      print(number)\n",
        "      continue \n",
        "    has_commit = False \n",
        "    commits = []\n",
        "    for item in timeline:\n",
        "      if('commit_url' in item.keys() and item['commit_url']!=None):\n",
        "        has_commit = True \n",
        "        commit = requests.get(item['commit_url'], headers=headers).json()\n",
        "        if('files' in commit.keys()):\n",
        "          files = [f['filename'] for f in commit['files']]\n",
        "          commits.append([commit['node_id'], commit['commit']['message'], commit['commit']['committer']['date'], files])\n",
        "    if(has_commit):\n",
        "      issues_with_commits[number]['body'] = issue['body']\n",
        "      issues_with_commits[number]['commits'] = commits\n",
        "      issues_with_commits[number]['labels'] = labels"
      ],
      "metadata": {
        "id": "sDC_HAH3jVyk"
      },
      "execution_count": null,
      "outputs": []
    },
    {
      "cell_type": "code",
      "source": [
        "to_save = dict(issues_with_commits)"
      ],
      "metadata": {
        "id": "wHnh35Axztn1"
      },
      "execution_count": null,
      "outputs": []
    },
    {
      "cell_type": "code",
      "source": [
        "with open(f'issues_with_commits.jsonl', 'w') as f:\n",
        "  for issue in to_save:\n",
        "    json_record = json.dumps({'issue_number': issue, **to_save[issue]})\n",
        "    f.write(json_record+'\\n')"
      ],
      "metadata": {
        "id": "yUaWpGRqYj_K"
      },
      "execution_count": null,
      "outputs": []
    },
    {
      "cell_type": "markdown",
      "source": [
        "## Pruning to bug-related issues"
      ],
      "metadata": {
        "id": "WSpdXTfOuucV"
      }
    },
    {
      "cell_type": "code",
      "source": [
        "final = []\n",
        "with open('issues.jsonl', 'r') as f:\n",
        "  for line in f:\n",
        "    final.append(json.loads(line))\n",
        "print(len(final))"
      ],
      "metadata": {
        "colab": {
          "base_uri": "https://localhost:8080/"
        },
        "id": "yU8ByO0Et48P",
        "outputId": "81b77409-853d-46e5-da4d-e7f75eba1865"
      },
      "execution_count": null,
      "outputs": [
        {
          "output_type": "stream",
          "name": "stdout",
          "text": [
            "3206\n"
          ]
        }
      ]
    },
    {
      "cell_type": "code",
      "source": [
        "all_bugs = set()\n",
        "for issue in non_prs:\n",
        "  labels = []\n",
        "  if('labels' in issue.keys()):\n",
        "    labels = [t['name'] for t in issue['labels']]\n",
        "  if('bug' in labels):\n",
        "    all_bugs.add(issue['number'])"
      ],
      "metadata": {
        "id": "T64QwljpwpPv"
      },
      "execution_count": null,
      "outputs": []
    },
    {
      "cell_type": "code",
      "source": [
        "issues_with_commits = set()\n",
        "for issue in final:\n",
        "  issues_with_commits.add(issue['issue_number'])"
      ],
      "metadata": {
        "id": "UuKDdpDL31Ac"
      },
      "execution_count": null,
      "outputs": []
    },
    {
      "cell_type": "markdown",
      "source": [
        "### Bug label"
      ],
      "metadata": {
        "id": "gbHXqdFdvs1e"
      }
    },
    {
      "cell_type": "code",
      "source": [
        "issues_with_bug_label = set() \n",
        "for issue in final:\n",
        "  if('bug' in issue['labels']):\n",
        "    issues_with_bug_label.add(issue['issue_number'])\n",
        "print(len(issues_with_bug_label))"
      ],
      "metadata": {
        "colab": {
          "base_uri": "https://localhost:8080/"
        },
        "id": "6WBWuf0ovkbg",
        "outputId": "009672ad-0bb1-4255-ac37-231a053bfde1"
      },
      "execution_count": null,
      "outputs": [
        {
          "output_type": "stream",
          "name": "stdout",
          "text": [
            "1202\n"
          ]
        }
      ]
    },
    {
      "cell_type": "markdown",
      "source": [
        "### \"Fix\" in commit"
      ],
      "metadata": {
        "id": "jBFib7kI68cz"
      }
    },
    {
      "cell_type": "code",
      "source": [
        "issues_with_fix_in_commit = set()\n",
        "for issue in final:\n",
        "  search_pattern = r'fixes #\\d+'\n",
        "  all_commit_messages = \"\\n\".join(c[1].lower() for c in issue['commits'])\n",
        "  if(re.search(search_pattern, all_commit_messages)):\n",
        "    issues_with_fix_in_commit.add(issue['issue_number'])\n",
        "print(len(issues_with_fix_in_commit))"
      ],
      "metadata": {
        "colab": {
          "base_uri": "https://localhost:8080/"
        },
        "id": "HjMLEASiwgCQ",
        "outputId": "725766ef-80f6-4b19-c7a1-b0040681fb11"
      },
      "execution_count": null,
      "outputs": [
        {
          "output_type": "stream",
          "name": "stdout",
          "text": [
            "2240\n"
          ]
        }
      ]
    },
    {
      "cell_type": "markdown",
      "source": [
        "### Buggy regex in title/body"
      ],
      "metadata": {
        "id": "c2HAdkl46-aT"
      }
    },
    {
      "cell_type": "code",
      "source": [
        "issues_with_buggy_in_text = set()\n",
        "for issue in final:\n",
        "  search_pattern = r\"bug | does not work | doesn't work | broken | not working | to reproduce\" \n",
        "  if(re.search(search_pattern, issue[\"body\"].lower()+\" \"+issue[\"title\"].lower())):\n",
        "    issues_with_buggy_in_text.add(issue[\"issue_number\"])\n",
        "print(len(issues_with_buggy_in_text))"
      ],
      "metadata": {
        "colab": {
          "base_uri": "https://localhost:8080/"
        },
        "id": "uuKpdgQA4ac9",
        "outputId": "4e909554-8e36-4ae3-df89-5c1ab1488a5a"
      },
      "execution_count": null,
      "outputs": [
        {
          "output_type": "stream",
          "name": "stdout",
          "text": [
            "373\n"
          ]
        }
      ]
    },
    {
      "cell_type": "code",
      "source": [
        "all_issues = issues_with_bug_label.union(issues_with_fix_in_commit).union(issues_with_buggy_in_text)\n",
        "print(len(all_issues))"
      ],
      "metadata": {
        "colab": {
          "base_uri": "https://localhost:8080/"
        },
        "id": "QWUzEsj640i6",
        "outputId": "579014e5-6499-4775-d862-55086e8f6f00"
      },
      "execution_count": null,
      "outputs": [
        {
          "output_type": "stream",
          "name": "stdout",
          "text": [
            "2617\n"
          ]
        }
      ]
    },
    {
      "cell_type": "markdown",
      "source": [
        "### Final dataset"
      ],
      "metadata": {
        "id": "Y6XjjILn8F8F"
      }
    },
    {
      "cell_type": "code",
      "source": [
        "final_dataset = []\n",
        "for issue in final:\n",
        "  source = []\n",
        "  if(issue['issue_number'] in issues_with_bug_label):\n",
        "    source.append('label')\n",
        "  if(issue['issue_number'] in issues_with_buggy_in_text):\n",
        "    source.append('title/body')\n",
        "  if(issue['issue_number'] in issues_with_fix_in_commit):\n",
        "    source.append('commit')\n",
        "  issue['source'] = source \n",
        "  final_dataset.append(issue)\n",
        "print(len(final_dataset))"
      ],
      "metadata": {
        "colab": {
          "base_uri": "https://localhost:8080/"
        },
        "id": "aL5yIABZxYqF",
        "outputId": "0a5dd698-cc5a-480a-f5b9-2c6fec284f02"
      },
      "execution_count": null,
      "outputs": [
        {
          "output_type": "stream",
          "name": "stdout",
          "text": [
            "3206\n"
          ]
        }
      ]
    },
    {
      "cell_type": "code",
      "source": [
        "with open(f'bug_issues.jsonl', 'w') as f:\n",
        "  for issue in final_dataset:\n",
        "    json_record = json.dumps(issue)\n",
        "    f.write(json_record+'\\n')"
      ],
      "metadata": {
        "id": "zucUE24m8oW6"
      },
      "execution_count": null,
      "outputs": []
    }
  ]
}